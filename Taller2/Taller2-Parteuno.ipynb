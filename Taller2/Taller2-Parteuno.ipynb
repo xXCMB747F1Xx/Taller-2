{
 "cells": [
  {
   "cell_type": "markdown",
   "metadata": {},
   "source": [
    "# Taller 2 Parte 1\n",
    "\n",
    "Page to be scraped: El Espectador"
   ]
  },
  {
   "cell_type": "code",
   "execution_count": 21,
   "metadata": {},
   "outputs": [],
   "source": [
    "# Importing required libraries\n",
    "import time\n",
    "import pymongo\n",
    "from selenium.webdriver.firefox.options import Options as FirefoxOptions\n",
    "from bs4 import BeautifulSoup\n",
    "from selenium import webdriver\n",
    "\n",
    "from pymongo import MongoClient"
   ]
  },
  {
   "cell_type": "code",
   "execution_count": 22,
   "metadata": {},
   "outputs": [],
   "source": [
    "# Creating a connection to MongoDB\n",
    "client = MongoClient('localhost', 27017)\n",
    "db = client['TallerDos']\n",
    "collection = db['colombia']"
   ]
  },
  {
   "cell_type": "code",
   "execution_count": 23,
   "metadata": {},
   "outputs": [],
   "source": [
    "# Base URL of the site to be analyzed\n",
    "SITE_URL = 'https://www.elespectador.com'"
   ]
  },
  {
   "cell_type": "code",
   "execution_count": 24,
   "metadata": {},
   "outputs": [],
   "source": [
    "# Firefox web driver path\n",
    "# Download the driver for you S.O. here: https://github.com/mozilla/geckodriver/releases\n",
    "DRIVER_PATH = './geckodriver.exe'"
   ]
  },
  {
   "cell_type": "code",
   "execution_count": 25,
   "metadata": {},
   "outputs": [
    {
     "name": "stderr",
     "output_type": "stream",
     "text": [
      "C:\\Users\\candi\\AppData\\Local\\Temp/ipykernel_15260/1910320475.py:2: DeprecationWarning: executable_path has been deprecated, please pass in a Service object\n",
      "  browser = webdriver.Firefox(executable_path = DRIVER_PATH)\n"
     ]
    }
   ],
   "source": [
    "# Creating a new firefox window\n",
    "browser = webdriver.Firefox(executable_path = DRIVER_PATH)"
   ]
  },
  {
   "cell_type": "code",
   "execution_count": 26,
   "metadata": {},
   "outputs": [],
   "source": [
    "def make_request(browser, relative_path):\n",
    "    # Making the request and rendering the browser\n",
    "    browser.get(SITE_URL + relative_path)\n",
    "    \n",
    "    # Simulating vertical scrolling for handling lazy load\n",
    "    check_height = browser.execute_script('return document.body.scrollHeight;')\n",
    "    while True:\n",
    "        browser.execute_script('window.scrollTo(0, document.body.scrollHeight);')\n",
    "        time.sleep(3)\n",
    "        height = browser.execute_script('return document.body.scrollHeight;')\n",
    "        if height == check_height: \n",
    "            break \n",
    "        check_height = height\n",
    "    \n",
    "    # Getting HTML content and passing it to BeautifulSoup for scraping analysis\n",
    "    return BeautifulSoup(browser.page_source, 'html.parser')"
   ]
  },
  {
   "cell_type": "code",
   "execution_count": 27,
   "metadata": {},
   "outputs": [],
   "source": [
    "# Getting HTML content for a particular news listing page\n",
    "soup = make_request(browser, '/archivo/colombia/26/')"
   ]
  },
  {
   "cell_type": "code",
   "execution_count": 28,
   "metadata": {},
   "outputs": [],
   "source": [
    "# Finding the section where news are contained \n",
    "layout = soup.find(class_ = 'Layout-flexAds')"
   ]
  },
  {
   "cell_type": "code",
   "execution_count": 29,
   "metadata": {},
   "outputs": [
    {
     "name": "stdout",
     "output_type": "stream",
     "text": [
      "2\n"
     ]
    }
   ],
   "source": [
    "# Getting blocks from layout\n",
    "blocks = layout.find_all(class_ = 'Container Block', recursive = True)\n",
    "print(len(blocks))"
   ]
  },
  {
   "cell_type": "code",
   "execution_count": 30,
   "metadata": {},
   "outputs": [
    {
     "data": {
      "text/plain": [
       "12"
      ]
     },
     "execution_count": 30,
     "metadata": {},
     "output_type": "execute_result"
    }
   ],
   "source": [
    "# Finding and concatenating news cards\n",
    "cards = blocks[0].find_all(class_ = 'Card_rowCardLeft') + blocks[1].find_all(class_ = 'Card_rowCardLeft')\n",
    "len(cards)"
   ]
  },
  {
   "cell_type": "code",
   "execution_count": 31,
   "metadata": {},
   "outputs": [],
   "source": [
    "# Building a list with title and relative path of the news founded\n",
    "\n",
    "news = []\n",
    "\n",
    "for card in cards:\n",
    "    news.append({\n",
    "        'title': card.find('h2', class_ = 'Card-Title').find('a').get_text(),\n",
    "        'relative_path': card.find('h2', class_ = 'Card-Title').find('a')['href']\n",
    "    })"
   ]
  },
  {
   "cell_type": "code",
   "execution_count": 32,
   "metadata": {},
   "outputs": [
    {
     "data": {
      "text/plain": [
       "[{'title': 'Tres uniformados heridos en ataque civil a base militar en Norte de Santander',\n",
       "  'relative_path': '/judicial/tres-uniformados-heridos-en-ataque-civil-a-base-militar-en-norte-de-santander/'},\n",
       " {'title': 'Tembló en Colombia: sismo de 4,2 grados',\n",
       "  'relative_path': '/colombia/temblo-en-colombia-sismo-de-42-grados/'},\n",
       " {'title': 'La salud mental, ¿un tema para sacar en medio de un debate político?',\n",
       "  'relative_path': '/opinion/la-salud-mental-un-tema-para-sacar-en-medio-de-un-debate-politico/'},\n",
       " {'title': 'Más que un corte: la historia Barber Art, colectivo de barbería',\n",
       "  'relative_path': '/colombia/mas-regiones/mas-que-un-corte-la-historia-barber-art-colectivo-de-barberia/'},\n",
       " {'title': '“A nadie le importa la vida de los LGBTI”: Wilson Castañeda',\n",
       "  'relative_path': '/colombia/barranquilla/a-nadie-le-importa-la-vida-de-los-lgbti-wilson-castaneda/'},\n",
       " {'title': 'Defensoría pide redoblar esfuerzos para evitar emergencias por ola invernal',\n",
       "  'relative_path': '/colombia/mas-regiones/defensoria-pide-redoblar-esfuerzos-para-evitar-emergencias-por-ola-invernal/'},\n",
       " {'title': 'Murió un turista italiano tras ataque de tiburón en San Andrés',\n",
       "  'relative_path': '/colombia/mas-regiones/murio-italiano-tras-un-ataque-de-tiburon-en-san-andres/'},\n",
       " {'title': 'El plan para apoyar a comerciantes afectados por cancelación del Jamming',\n",
       "  'relative_path': '/colombia/mas-regiones/asi-apoyara-a-comerciantes-afectados-por-cancelacion-del-jamming/'},\n",
       " {'title': 'Asesinaron a reconocido bailarín en San Andrés',\n",
       "  'relative_path': '/colombia/mas-regiones/asesinaron-a-reconocido-bailarin-en-san-andres/'},\n",
       " {'title': 'Habrá pico y placa regional para ingresar a Bogotá el próximo puente festivo',\n",
       "  'relative_path': '/bogota/habra-pico-y-placa-regional-para-ingresar-a-bogota-el-proximo-puente-festivo/'},\n",
       " {'title': 'Puntos de inscripción de cédula para elecciones presidenciales 2022 en Cali',\n",
       "  'relative_path': '/colombia/cali/puntos-de-inscripcion-de-cedula-para-elecciones-presidenciales-2022-en-cali/'},\n",
       " {'title': 'Autoridades activaron el Plan Éxodo para el puente festivo de San José',\n",
       "  'relative_path': '/colombia/mas-regiones/autoridades-activaron-el-plan-exodo-para-el-puente-festivo-de-san-jose/'}]"
      ]
     },
     "execution_count": 32,
     "metadata": {},
     "output_type": "execute_result"
    }
   ],
   "source": [
    "news"
   ]
  },
  {
   "cell_type": "code",
   "execution_count": 130,
   "metadata": {},
   "outputs": [
    {
     "ename": "AttributeError",
     "evalue": "'NoneType' object has no attribute 'get_text'",
     "output_type": "error",
     "traceback": [
      "\u001b[1;31m---------------------------------------------------------------------------\u001b[0m",
      "\u001b[1;31mAttributeError\u001b[0m                            Traceback (most recent call last)",
      "\u001b[1;32m~\\AppData\\Local\\Temp/ipykernel_12764/2773404874.py\u001b[0m in \u001b[0;36m<module>\u001b[1;34m\u001b[0m\n\u001b[0;32m      5\u001b[0m     \u001b[1;31m# Extracting news metadata\u001b[0m\u001b[1;33m\u001b[0m\u001b[1;33m\u001b[0m\u001b[0m\n\u001b[0;32m      6\u001b[0m     \u001b[0mn\u001b[0m\u001b[1;33m[\u001b[0m\u001b[1;34m'datetime'\u001b[0m\u001b[1;33m]\u001b[0m \u001b[1;33m=\u001b[0m \u001b[0msoup\u001b[0m\u001b[1;33m.\u001b[0m\u001b[0mfind\u001b[0m\u001b[1;33m(\u001b[0m\u001b[0mclass_\u001b[0m \u001b[1;33m=\u001b[0m \u001b[1;34m'ArticleHeader-Date'\u001b[0m\u001b[1;33m)\u001b[0m\u001b[1;33m.\u001b[0m\u001b[0mget_text\u001b[0m\u001b[1;33m(\u001b[0m\u001b[1;33m)\u001b[0m\u001b[1;33m\u001b[0m\u001b[1;33m\u001b[0m\u001b[0m\n\u001b[1;32m----> 7\u001b[1;33m     \u001b[0mn\u001b[0m\u001b[1;33m[\u001b[0m\u001b[1;34m'author'\u001b[0m\u001b[1;33m]\u001b[0m \u001b[1;33m=\u001b[0m \u001b[0msoup\u001b[0m\u001b[1;33m.\u001b[0m\u001b[0mfind\u001b[0m\u001b[1;33m(\u001b[0m\u001b[0mclass_\u001b[0m \u001b[1;33m=\u001b[0m \u001b[1;34m'ACredit-Author'\u001b[0m\u001b[1;33m)\u001b[0m\u001b[1;33m.\u001b[0m\u001b[0mfind\u001b[0m\u001b[1;33m(\u001b[0m\u001b[1;34m'a'\u001b[0m\u001b[1;33m)\u001b[0m\u001b[1;33m.\u001b[0m\u001b[0mget_text\u001b[0m\u001b[1;33m(\u001b[0m\u001b[1;33m)\u001b[0m\u001b[1;33m\u001b[0m\u001b[1;33m\u001b[0m\u001b[0m\n\u001b[0m\u001b[0;32m      8\u001b[0m     \u001b[0mn\u001b[0m\u001b[1;33m[\u001b[0m\u001b[1;34m'summary'\u001b[0m\u001b[1;33m]\u001b[0m \u001b[1;33m=\u001b[0m \u001b[0msoup\u001b[0m\u001b[1;33m.\u001b[0m\u001b[0mfind\u001b[0m\u001b[1;33m(\u001b[0m\u001b[0mclass_\u001b[0m \u001b[1;33m=\u001b[0m \u001b[1;34m'ArticleHeader-Hook'\u001b[0m\u001b[1;33m)\u001b[0m\u001b[1;33m.\u001b[0m\u001b[0mfind\u001b[0m\u001b[1;33m(\u001b[0m\u001b[1;34m'div'\u001b[0m\u001b[1;33m)\u001b[0m\u001b[1;33m.\u001b[0m\u001b[0mget_text\u001b[0m\u001b[1;33m(\u001b[0m\u001b[1;33m)\u001b[0m\u001b[1;33m\u001b[0m\u001b[1;33m\u001b[0m\u001b[0m\n\u001b[0;32m      9\u001b[0m \u001b[1;33m\u001b[0m\u001b[0m\n",
      "\u001b[1;31mAttributeError\u001b[0m: 'NoneType' object has no attribute 'get_text'"
     ]
    }
   ],
   "source": [
    "for n in news:\n",
    "    # Getting HTML content for each news page\n",
    "    soup = make_request(browser, n['relative_path'])\n",
    "    \n",
    "    # Extracting news metadata\n",
    "    n['datetime'] = soup.find(class_ = 'ArticleHeader-Date').get_text()\n",
    "    n['author'] = soup.find(class_ = 'ACredit-Author').find('a').get_text()\n",
    "    n['summary'] = soup.find(class_ = 'ArticleHeader-Hook').find('div').get_text()\n",
    "    \n",
    "    # Extracting and concatenating news full text\n",
    "    paragraphs = soup.find_all(class_ = 'font--secondary')\n",
    "    n['full_text'] = ' '.join([p.get_text() for p in paragraphs])"
   ]
  },
  {
   "cell_type": "code",
   "execution_count": 131,
   "metadata": {},
   "outputs": [
    {
     "data": {
      "text/plain": [
       "[{'title': 'Jardín Botánico de Bogotá anunció su segunda ruta agroecológica ',\n",
       "  'relative_path': '/bogota/jardin-botanico-de-bogota-anuncio-su-segunda-ruta-agroecologica/',\n",
       "  'datetime': '28 mar 2022  - 2:13 p.\\xa0m.',\n",
       "  'author': 'Redacción Bogotá',\n",
       "  'summary': 'Esta iniciativa se compone de un circuito de cinco huertas urbanas con historia, patrimonio, mitos y muchas actividades que los ciudadanos podrán compartir. Conozca cómo inscribirse.',\n",
       "  'full_text': 'El Jardín Botánico de Bogotá junto con el Instituto Distrital de Turismo (IDT) anunció que llevará a cabo su segunda ruta agroecológica “De huerta en huerta”, una iniciativa que apunta al posicionamiento de la actividad agroecológica urbana y periurbana desde una perspectiva turística, promoviendo el conocimiento de las huertas como espacios de interacción. Según la entidad, este proyecto es una apuesta del Plan de Desarrollo Distrital que busca promover nuevas oportunidades de crecimiento económico para los agricultores urbanos por medio de recorridos turísticos en sus huertas. El lanzamiento de la ruta agroecológica Centro de Bogotá tendrá lugar en la huerta Antigua Fábrica de Loza Bakatá (Av. Los Comuneros con Cra. 2A) el próximo martes 29 de marzo a las 8 a.m. Le puede interesar: Radican proyecto para ingreso de la capital a la Región Bogotá - Cundinamarca La directora del Jardín Botánico, Martha Liliana Perdomo compartió que “el objetivo es que los ciudadanos vivan una experiencia diferente en cada una de las huertas al escuchar las experiencias de vida de la comunidad, conocer algunos de los sitios más icónicos del centro y apoyar sus emprendimientos”. El Jardín informó que para esta edición se contará con cinco huertas: La huerta Fábrica de Loza, La huerta Santa Elena, En la Casa Museo Quinta de Bolívar, Huerta del Cóndor y El Botánico Hostel. “Estas huertas son aulas vivas donde las personas pueden aprender sobre agricultura urbana, comprender sus ciclos y tiempos de siembra, cosecha, abono y construcción de semilleros. Son aulas educativas no convencionales donde los ciudadanos podrán inspirarse para montar sus propias huertas en las casas”, agregó la directora Perdomo. Lea También: Atentado en Ciudad Bolívar: Policía Nacional apunta a disidente “Jhon Mechas” Por último, aquellos ciudadanos que deseen participar en la ruta agroecológica del centro, deberán enviar un correo a rutaagroecologica@jbb.gov.co informando el número de personas, las huertas que quieren conocer y el objetivo de la visita. Para conocer más noticias de la capital y Cundinamarca, visite la sección Bogotá, de El Espectador.'},\n",
       " {'title': 'Bogotá: Fiscalía imputó cargos a exgerente de Koaj por acto sexual violento agravado',\n",
       "  'relative_path': '/bogota/bogota-fiscalia-imputo-cargos-a-exgerente-de-koaj-por-acto-sexual-violento-agravado/',\n",
       "  'datetime': '28 mar 2022  - 1:24 p.\\xa0m.',\n",
       "  'author': 'Redacción Bogotá',\n",
       "  'summary': 'Una juez de control de garantías legalizó la imputación de de cargos contra Brayan Medina, por acto sexual violento y acoso sexual. El señalado no aceptó los cargos.',\n",
       "  'full_text': 'En una audiencia de imputación de cargos, la Fiscalía le imputó cargos a Brayan Medina, exgerente de una tienda de la empresa Koaj en el sur de la ciudad, quién fue denunciado por Juana Camila Pérez por acoso sexual y laboral mientras trabajaba en la empresa. Cabe recordar que este caso se conoció a principios de este año, por denuncias de Perez, extrabajadora de Permoda (nombre legal de la empresa), en la que contó como, cuando empezó a trabajar a puerta cerrada en junio de 2020, el gerente de la tienda comenzó a acosarla, diciéndole comentarios morbosos. En contexto: Juana Pérez vs. Koaj: así va el proceso por presunto acoso sexual “Yo lo ignoraba y le decía que me respetara. Esto sucedía todos los días, en todo momento. Luego de eso, me trataba de coger el brazo para así, con sus manos, poder tocarme los senos de la manera más asquerosa. Yo me soltaba y le decía que me respetara, pero él como, buen acosador, solo se reía”, contó en ese momento Juana Camila. Durante la audiencia, la Fiscal del caso señaló como Brayan Medina realizaba comentarios sexuales contra la víctima de manera permanente, incluso frente a otros trabajadores de la empresa. Además, se acusó a Medina de cambiar los horarios de trabajo de la víctima para que se encontrará sola para hostigarla y tocarla en sus partes íntimas. Lea también: Radican proyecto para ingreso de la capital a la Región Bogotá - Cundinamarca Asimismo, la Fiscalía confirmó que de acuerdo con las labores de policía judicial evidenciaron que, “ante la negativa de la mujer, respecto a las pretensiones del procesado, ella habría sido amenazada por Medina Rueda con ser despedida”. Por su parte, también se señaló las consecuencias psicológicas y emocionales del acoso, que se extendió por cerca de un año. “Sufrió depresión, fue medicada, y toda esta situación la lleva a un intento de suicidio, porque se sentía en un estado de indefensión frente a Brayan Medina, quién siempre le hizo saber antes sus reclamos que el era el jefe, que en Koaj a las mujeres no la escuchan, y se normalizaron esos actos”, detalló la fiscal del caso. La Fiscalía le imputó los delitos de acto sexual violento agravado y acoso sexual, por los cuales podría enfrentar hasta 24 años de prisión. El imputado no aceptó los cargos. Para conocer más noticias de la capital y Cundinamarca, visite la sección Bogotá  de El Espectador.'},\n",
       " {'title': 'Radican proyecto para ingreso de la capital a la Región Bogotá - Cundinamarca',\n",
       "  'relative_path': '/bogota/radican-proyecto-para-ingreso-de-la-capital-a-la-region-bogota-cundinamarca/',\n",
       "  'datetime': '28 mar 2022  - 12:07 p.\\xa0m.',\n",
       "  'author': 'Redacción Bogotá',\n",
       "  'summary': 'La Alcaldía de Bogotá presentó el proyecto de Acuerdo ante el Concejo para la aprobación del ingreso de la ciudad a la RMBC. Esta iniciativa, que ya cuenta con sanción presidencial, busca promover la integración de la región, que concentra más del 20% de la población del país.',\n",
       "  'full_text': 'Luego de la promulgación de la Ley 2199 de 2022, que reglamenta el funcionamiento de la Región Metropolitana Bogotá-Cundinamarca (RMBC), la Secretaría de Gobierno presentó el Proyecto de Acuerdo ante el Concejo para aprobar el ingreso de la capital a la iniciativa que busca consolidar la integración regional en el centro del país. El proyecto, en el cual harán parte más de 30 municipios, ya tiene sanción presidencial, y está pendiente de la aprobación del cabildo de la ciudad para el ingreso de Bogotá en el Consejo Regional, donde se determinarán las prioridades en los planes de desarrollo de la RMBC. Lea también: Elecciones: Conozca cómo buscar los puntos de inscripción de cédulas en Bogotá En dicho Consejo participará la alcaldesa de Bogotá, los alcaldes de los municipios integrantes y el Gobernador de Cundinamarca, y tendrá como objetivo desarrollar, entre otros puntos, la autonomía de la región, que cabe señalar representa más del 31.6% del PIB del país. “En la región metropolitana viven 10 millones de personas, y uno de cada tres pesos que se producen en Colombia, se producen en la Región. El proyecto busca consenso, y una mejor forma de administrar bienestar a las personas que viven en la región”, aseguró Felipe Jiménez, secretario de Gobierno, durante la presentación del proyecto. Por su parte, el proyecto busca también hacer un uso más eficiente de los recursos entre actores públicos y privados en aspectos territoriales, ambientales, económicos, de servicios públicos y de movilidad y transporte. Podría interesarle: Atentado en Ciudad Bolívar: Policía Nacional apunta a disidente “Jhon Mechas” En referente a esto último, la Región Metropolitana tendrá como autoridad única de transporte a la Agencia Regional de Transporte para la integración del sistema férreo con el sistema de transporte de la capital, y reducir los tiempos de viaje. En materia de desarrollo económico se buscará promover las vocaciones productivas de cada una de las partes, con particular énfasis en el turismo regional. Para conocer más noticias de la capital y Cundinamarca, visite la sección Bogotá  de El Espectador.'},\n",
       " {'title': 'Opinión: El modelo de salud preventiva de Petro, ¿el adecuado para Bogotá? ',\n",
       "  'relative_path': '/bogota/opinion-el-modelo-de-salud-preventiva-de-petro-el-adecuado-para-bogota/',\n",
       "  'datetime': '28 mar 2022  - 10:40 a.\\xa0m.'},\n",
       " {'title': 'Elecciones: Conozca cómo buscar los puntos de inscripción de cédulas en Bogotá',\n",
       "  'relative_path': '/bogota/elecciones-conozca-como-buscar-los-puntos-de-inscripcion-de-cedulas-en-bogota/'},\n",
       " {'title': 'Atentado en Ciudad Bolívar: Policía Nacional apunta a disidente “Jhon Mechas”',\n",
       "  'relative_path': '/judicial/atentado-en-ciudad-bolivar-policia-nacional-apunta-a-disidente-jhon-mechas/'},\n",
       " {'title': 'Murió Salomé, la niña de cinco años víctima del atentado en el sur de Bogotá',\n",
       "  'relative_path': '/bogota/murio-salome-la-nina-de-cinco-anos-victima-del-atentado-en-el-sur-de-bogota/'},\n",
       " {'title': 'Atentado en Ciudad Bolívar: Frente 33 de las disidencias se atribuye ataque ',\n",
       "  'relative_path': '/bogota/atentado-en-ciudad-bolivar-frente-33-de-las-farc-se-atribuye-ataque-en-bogota/'},\n",
       " {'title': 'Realizan homenaje a Daniel Duque, menor fallecido en atentado en Ciudad Bolívar',\n",
       "  'relative_path': '/bogota/realizan-homenaje-a-daniel-duque-menor-fallecido-en-atentado-en-ciudad-bolivar/'},\n",
       " {'title': 'Cortes de agua y luz para este lunes 28 de marzo en Bogotá',\n",
       "  'relative_path': '/bogota/cortes-de-agua-y-luz-para-este-lunes-28-de-marzo-en-bogota/'},\n",
       " {'title': 'Estos son los puntos de vacunación contra el covid-19 este 28 de marzo',\n",
       "  'relative_path': '/bogota/estos-son-los-puntos-de-vacunacion-contra-el-covid-19-este-28-de-marzo/'},\n",
       " {'title': 'Pico y placa Bogotá: hoy 28 de marzo',\n",
       "  'relative_path': '/bogota/pico-y-placa-bogota-hoy-28-de-marzo/'}]"
      ]
     },
     "execution_count": 131,
     "metadata": {},
     "output_type": "execute_result"
    }
   ],
   "source": [
    "news"
   ]
  },
  {
   "cell_type": "code",
   "execution_count": 132,
   "metadata": {},
   "outputs": [
    {
     "data": {
      "text/plain": [
       "<pymongo.results.InsertManyResult at 0x248a1c17440>"
      ]
     },
     "execution_count": 132,
     "metadata": {},
     "output_type": "execute_result"
    }
   ],
   "source": [
    "# Storing extracted information for further analysis\n",
    "collection.insert_many(news)"
   ]
  },
  {
   "cell_type": "code",
   "execution_count": null,
   "metadata": {},
   "outputs": [],
   "source": []
  }
 ],
 "metadata": {
  "kernelspec": {
   "display_name": "Python 3 (ipykernel)",
   "language": "python",
   "name": "python3"
  },
  "language_info": {
   "codemirror_mode": {
    "name": "ipython",
    "version": 3
   },
   "file_extension": ".py",
   "mimetype": "text/x-python",
   "name": "python",
   "nbconvert_exporter": "python",
   "pygments_lexer": "ipython3",
   "version": "3.9.7"
  }
 },
 "nbformat": 4,
 "nbformat_minor": 4
}
