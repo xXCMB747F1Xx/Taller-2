{
 "cells": [
  {
   "cell_type": "markdown",
   "metadata": {},
   "source": [
    "# Taller 2 parte 1\n",
    "\n",
    "Unstructured text querying using text index on MongoDB."
   ]
  },
  {
   "cell_type": "code",
   "execution_count": 7,
   "metadata": {},
   "outputs": [],
   "source": [
    "# Importing required libraries\n",
    "\n",
    "from pymongo import MongoClient\n",
    "from pymongo import TEXT"
   ]
  },
  {
   "cell_type": "code",
   "execution_count": 8,
   "metadata": {},
   "outputs": [],
   "source": [
    "# Creating a connection to MongoDB\n",
    "client = MongoClient('localhost', 27017)\n",
    "db = client['TallerDos']\n",
    "collection = db['colombia']"
   ]
  },
  {
   "cell_type": "code",
   "execution_count": 9,
   "metadata": {},
   "outputs": [
    {
     "data": {
      "text/plain": [
       "'title_text_summary_text_full_text_text'"
      ]
     },
     "execution_count": 9,
     "metadata": {},
     "output_type": "execute_result"
    }
   ],
   "source": [
    "# Creating a text index over all text fields\n",
    "collection.create_index([('title', TEXT), ('summary', TEXT), ('full_text', TEXT)], default_language = 'spanish')"
   ]
  },
  {
   "cell_type": "code",
   "execution_count": 10,
   "metadata": {},
   "outputs": [],
   "source": [
    "# Searching by text\n",
    "result_search = list(collection.find({'$text': {'$search': 'elecciones presidenciales presidente electorales'}}, {'_id': 0, 'summary': 1, 'title': 1, 'full_text': 1, 'score': { '$meta': \"textScore\" }}))"
   ]
  },
  {
   "cell_type": "code",
   "execution_count": 11,
   "metadata": {},
   "outputs": [
    {
     "data": {
      "text/plain": [
       "4"
      ]
     },
     "execution_count": 11,
     "metadata": {},
     "output_type": "execute_result"
    }
   ],
   "source": [
    "len(result_search)"
   ]
  },
  {
   "cell_type": "code",
   "execution_count": 12,
   "metadata": {},
   "outputs": [
    {
     "data": {
      "text/plain": [
       "[{'title': 'El plan para apoyar a comerciantes afectados por cancelación del Jamming',\n",
       "  'summary': 'La alcaldía de Ibagué habilitó espacios para los comerciantes que iban a participar en el Festival.',\n",
       "  'full_text': 'Tras conocerse la cancelación del Jamming Festival, evento que se realizaría este fin de semana en Ibagué, se comenzaron a conocer las historias de comerciantes que apostaron parte de su capital en productos, muchos de los cuales son perecederos, que ofrecerían en el evento y que estarían en riesgo de perder. Ante esto, la alcaldía de Ibagué anunció la activación de una mesa de crisis para activar tres planes de atención a quienes fueron afectados por la cancelación del evento, que incluye la presencia de los 3.000 policías que se desplazaron hasta la ciudad tolimense para atender el festival. De acuerdo con Andrés Hurtado, alcalde de Ibagué, la ciudad será 24 horas, por lo que los bares y discotecas podrán abrir durante el fin de semana hasta las 5:00 a.m., mientras que los restaurantes tendrán permiso de hacerlo hasta las 2:00 a.m. “Además, los empresarios nos han solicitado que en el Festival de la Hamburguesa, sobre la calle 60 con avenida Ambalá, se habiliten espacios para los restauranteros que iban a estar en el Jamming Festival y que tenían sus apuestas económicas en eso”, dijo el mandatario. De la misma forma, se habilitará la tarima Ciudad Musical, en la Plaza de Bolívar, frente a la alcaldía, en la que se presentarán 20 artistas locales que iban a participar en el evento o que alcanzaron a llegar a Ibagué. “Todos los hoteles están dispuestos, la gastronomía y la seguridad. Todos a unirnos, aquí no hay lugar al odio o al ataque. Aquí un empresario incumplió y tendrá que responderle a las entidades de control, como la Fiscalía, como lo hemos hoy denunciado ya la Superintendencia, para que les regresen el dinero a las personas que pagaron su boleta”, señaló Hurtado. Por su parte, Cristian Gutiérrez, presidente de Fenalco Tolima, indicó a El Espectador que sumado a esto se han habilitado ferias artesanales en centros comerciales y se han unido todos los gremios para hacer publicidad y promoción de los productos que se ofrecerán. “También entendemos que mucha gente había llegado y por eso programamos actividades y eventos. Estamos preparados para atender un evento así y hasta superior y queremos demostrar que lo podemos resolver”, dijo Gutiérrez, quien añadió que por el Jamming y el Festival de la Música que se celebra este fin de semana en la ciudad, se esperaban alrededor de 80.000 visitantes, mientras que las expectativas económicas que se tenían, junto a la Cámara de Comercio, era de aproximadamente 50.000 millones de pesos. Además, el subdirector de la Aerocivil estaba dispuesto a comandar las operaciones aéreas de la ciudad durante el fin de semana ante el masivo tránsito que tendría la ciudad, mientras que Gutiérrez resalta que desde los gremios se trabajó de la mano con los organizadores del Jamming para propiciar espacios. “Ahora lo más lindo es que la gente se ha unido a ayudar y hasta los grandes empresarios han ofrecido sus parqueaderos para poner carpas o ayudar con sonido, lo que en verdad es muy gratificante”, concluye Gutiérrez. Los gremios y la alcaldía también se han unido con la etiqueta #IbaguéSigueActiva para promocionar actividades que se realizarán el puente festivo, mientras organizaciones como Comfenalco y Surtiplaza, entre otros grandes comerciantes de Ibagué han preparado y ofrecido alternativas a los emprendimientos afectados. ',\n",
       "  'score': 0.5019157088122606},\n",
       " {'title': 'Lista la terna de la que se escogerá al nuevo contralor de Medellín',\n",
       "  'summary': 'La lista está conformada por Pablo Andrés Garcés Vásquez, Jairo Alonso Mesa Guerra y José Vidal Pérez Morales.',\n",
       "  'full_text': 'El concejo de Medellín tiene lista la terna de la que se elegirá el próximo contralor de la ciudad. Luego de superar una serie de acciones jurídicas que se interpusieron al proceso, el cabildo da continuidad a las elecciones del funcionario que estará a la cabeza del ente de control por los próximos dos años. Lea: Puntos de inscripción de cédula para elecciones presidenciales 2022 en Medellín Entre los elegidos, que obtuvieron los puntajes más altos en las pruebas hechas por el Instituto Tecnológico de Antioquia, se encuentran Pablo Andrés Garcés Vásquez, quien ya había sido contralor de Envigado, por lo que, según El Colombiano, se proyecta como uno de los más opcionados. En la lista también se encuentra Jairo Alonso Mesa Guerra, un economista especializado en gestión financiera empresarial, que fue superintendente de Notariado y Registro. Mientras que la lista la cierra el contador público especialista en control fiscal, José Vidal Pérez Morales, quien también estuvo en la contraloría de Envigado. La elección del nuevo contralor de Medellín inicio el 29 de octubre del año pasado con la publicación de la convocatoria, pero debido a diferentes acciones judiciales, entre las que se encuentra una tutela por presuntas irregularidades del proceso, la escogencia de la terna tuvo que ser aplazada. Ahora, la ciudadanía tendrá cinco días hábiles para hacer observaciones sobre los aspirantes, mientras que, al mismo tiempo, el Departamento Administrativo de la Función Pública revisará sus hojas de vida. Posteriormente, el 28 de marzo, está prevista una sesión en el recinto del Concejo de Medellín, donde los cabildantes entrevistarán a los candidatos y finalmente su elección por votación. La elección de los contralores territoriales la hace el Concejo de una terna conformada por quienes obtengan los más altos puntajes de la convocatoria pública que, de acuerdo con las nuevas disposiciones de la Contraloría, debe hacerse con mínimo tres meses de antelación a la sesión de elección. Se realizarán cuatro pruebas clasificatorias, que equivalen al 40 % de la evaluación y corresponden a la producción de obras en el ámbito fiscal, actividad docente, experiencia y formación profesional. Por último, están las pruebas de conocimiento, que son de carácter eliminatorio y equivalen al 60 % de la calificación. La elección del contralor, según las nuevas disposiciones, ahora será de solo dos años y no de cuatro, así como los cabildantes ya no escogen de un listado de diez candidatos, sino de tres.',\n",
       "  'score': 1.5285060975609757},\n",
       " {'title': 'Tras cancelación del Jamming Festival, ¿cuál es el plan de turismo en Ibagué?',\n",
       "  'summary': 'El Festival de Música Colombiana y las actividades al aire libre son algunas de las propuestas turísticas en Ibagué.',\n",
       "  'full_text': 'A solo un día de que iniciará el Festival Jamming, que se tenía previsto para el fin de semana del 19, 20 y 21 de marzo, la Alcaldía de Ibagué informó que el evento fue cancelado. Al parecer, el festival presentaba irregularidades, entre las que se encuentra la cancelación de artistas, problemas económicos y cambios que no fueron previamente informados a los asistentes, según reportó la Superintendencia de Industria y Comercio (SIC). El evento, que se iba realizar en Playa Hawai en Ibagué, capital del Tolima, esperaba la llegada de cerca 100.000 asistentes, muchos de los cuales ya habían comenzado a llegar y otros que ya tienen reservas tanto en hoteles, apartamentos y fincas como en restaurantes por lo que la invitación es a disfrutas otro tipo de actividades turísticas en la ciudad y eventos confirmados. (Le puede interesar: Jamming Festival 2022: ¿la historia de una cancelación anunciada?) Desde el martes 15 de marzo, hasta el domingo 20, en Ibagué, se hace el Festival Nacional de la Música Colombiana. La mayoría de los eventos son gratis y contarán con la participación de diferentes agrupaciones, orquestas y concursos a los que pueden asistir. Consulte aquí la programación del evento. Viernes 18 de marzo Desde las 9:00 de la mañana hasta las 3:00 de la tarde se lleva a cabo de forma gratuita el VII Encuentro Nacional de Música de las Regiones con la participación de 20 agrupaciones seleccionadas y un concierto de difusión en el parque Manuel Murillo Toro. Este encuentro termina el 19.  Para las 3:00 de la tarde se tiene programado el concierto de difusión del “Día Nacional de la música colombiana” con el Dueto Margarita y los Inolvidables, la agrupación Los Raspayucos, la Gran Rondalla Colombiana y Nicoyembe. Este concierto se realizará en El Salado.  En la noche se realizará la Segunda Eliminatoria de los concursos nacionales de duetos “Príncipes de la canción” y de composición “Leonor Buenaventura” con la participación de la violista Tatiana Falla y Maricarmen Pérez. Este evento se hará en el Centro de Convenciones Alfonso López Pumarejo.  Sábado 19 de marzo Para el sábado 19 de marzo se prevé a las 3:00 de la tarde, en la tarima de Villarrestrepo, el concierto de difusión del “Día Nacional de la Música Colombiana” con el Dueto Nocturnal y Viejo Tolima, la agrupación Los Raspayucos, y la Coral Ciudad Musical. Allí estarán presentes los Gaiteros de San Jacinto.  Para las 8:00 de la noche se tiene programada la gran final del Concurso Nacionales de Duetos y de Composición en el Centro de Convenciones Alfonso López Pumarejo. Estarán presentes el Grupo Bandola, la Gran Rondalla Colombiana y el Dueto Margarita.  Domingo 20 de marzo En cuanto a la programación del domingo 20 de marzo, se tiene previsto para las 9:00 de la mañana un “Paseo Musical por Colombia” en la Plaza de Bolívar.  Y para finalizar, en la tarde se llevará a cabo la Premiación y Clausura del Festival Nacional de Música Colombiana, donde estarán presentes la Banda Sinfónica del Tolima, el grupo Rajaleñando, Maricarmen Pérez, Grupo Ensueño, la orquesta Sonora Canta Corazón, y el cantante y actor “Cantillo”. (Lea: Puntos de inscripción de cédula para elecciones presidenciales 2022 en Medellín) Visitar el Cañón del Combeima Este lugar está ubicado a 45 minutos de Ibagué y es ideal para realizar actividades de senderismo. El Cañón está ubicado en la Cordillera Central de los Andes, por lo que cuenta con un variado ecosistema. La caminata inicia en el pueblo Juntas y dura cerca de tres horas. En la primera parada se puede tomar el teleférico para cruzar el cañón y además podrán encontrar restaurantes campestres. Ir al Jardín Botánico San Jorge En este sitio se destacan las colecciones de orquídeas; también, las de bromelias, palmas y heliconias. Son 60 hectáreas, senderos y tres miradores donde se puede apreciar la ciudad. Está ubicado a cinco minutos del centro de Ibagué. Reserva Natural de las Orquídeas del Tolima Además de poder disfrutar de 180 especies de orquídeas, representadas en más de 8.000 plantas, este lugar cuenta con el servicio de camping; los habitantes pueden llevar carpas o alquilarlas para pasar la noche en zonas adecuadas para esta actividad.',\n",
       "  'score': 1.0026455026455026},\n",
       " {'title': 'Puntos de inscripción de cédula para elecciones presidenciales 2022 en Cali',\n",
       "  'summary': 'La Registraduría habilitó en la ciudad cinco puntos para que los interesados hagan el proceso. También se puede hacer la solicitud por internet.',\n",
       "  'full_text': 'El país tendrá una nueva jornada electoral el próximo 29 de mayo, que se realizarán la primera vuelta para las elecciones presidenciales, por ello la Registraduría abrió nuevamente el proceso de inscripción de cédulas para quienes cambiaron de lugar de residencia y las personas que no alcanzaron a hacer el proceso previo a las votaciones legislativas. Lea: ¿Cómo inscribir la cédula para elecciones presidenciales 2022 y cuál es el plazo? La solicitud se puede hacer por internet o de forma presencial, para lo cual se habilitaron 192 puestos en todo el país, de los cuales cinco se encuentran en Cali. En este caso, se escogieron lugares con alto tránsito y de fácil acceso para los ciudadanos: - Centro comercial Cosmocentro (Avenida 4 #23-86) - Centro comercial Jardín Plaza (Carrera 98 #6-200) - Centro comercial La Estación (Carrera 1 entre calles 36 y 38) - Centro comercial Único (Calle 52 #3-29) - Terminal Mío Andrés Sanín (Calle 73 con carrera 18 y 19) Por internet, los interesados deberá ingresar a este enlace, en el que deberán llenar un formulario básico con el número de la cédula y la fecha de expedición, para luego incluir datos personales como nombres y apellidos, punto actual de residencia, si tiene alguna condición de discapacidad, pertenece a alguna etnia, entre otros que solicita la página. Una vez hecho el registro, la página dará un número de inscripción, que debe guardarse en caso de algún inconveniente. Posteriormente, una vez avalado el cambio, llegará la confirmación del cambio del puesto de votación al correo electrónico. Tenga en cuenta que por estas fechas de inscripción de cédulas suelen circular cadenas de WhatsApp y publicaciones en redes sociales con enlaces diferentes, que contienen información falsa, por lo que las entidades electorales recuerdan que la Registraduría es la única que realiza este tipo de procesos e invitan a solo acudir a los links de su página oficial.',\n",
       "  'score': 3.417582417582417}]"
      ]
     },
     "execution_count": 12,
     "metadata": {},
     "output_type": "execute_result"
    }
   ],
   "source": [
    "result_search"
   ]
  },
  {
   "cell_type": "code",
   "execution_count": null,
   "metadata": {},
   "outputs": [],
   "source": []
  },
  {
   "cell_type": "code",
   "execution_count": null,
   "metadata": {},
   "outputs": [],
   "source": []
  }
 ],
 "metadata": {
  "kernelspec": {
   "display_name": "Python 3 (ipykernel)",
   "language": "python",
   "name": "python3"
  },
  "language_info": {
   "codemirror_mode": {
    "name": "ipython",
    "version": 3
   },
   "file_extension": ".py",
   "mimetype": "text/x-python",
   "name": "python",
   "nbconvert_exporter": "python",
   "pygments_lexer": "ipython3",
   "version": "3.9.7"
  }
 },
 "nbformat": 4,
 "nbformat_minor": 4
}
